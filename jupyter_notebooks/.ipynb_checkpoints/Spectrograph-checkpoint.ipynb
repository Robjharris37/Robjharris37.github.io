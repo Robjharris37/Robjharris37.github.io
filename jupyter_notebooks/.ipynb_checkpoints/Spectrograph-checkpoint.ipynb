{
 "cells": [
  {
   "cell_type": "markdown",
   "metadata": {},
   "source": [
    "# Spectrograph\n",
    "\n",
    "Based upon the [MCIFU](https://arxiv.org/pdf/2009.03529.pdf). It uses a triple stacked VPH grating (labelled R,G,B with B being the shortest wavelength) and has the key parameters\n",
    "\n",
    "| Parameter | Value |\n",
    "| -- | -- |\n",
    "| Grating order | 1 | \n",
    "| Grating central wavelength | ~1100 (B), 1300 (G), 1500 (R) |\n",
    "| Grating rulings | 668 (B), 565 (G), 490 (R) | \n",
    "\n",
    "\n",
    "Need to add in the differences between the MCIFU and Lil'i.\n",
    "\n",
    "- Different lens system (have a reflective collimator-  OAP, different focussing lenses)\n",
    "- less. bands\n",
    "- differetn magnifciation\n",
    "\n",
    "\n"
   ]
  },
  {
   "cell_type": "code",
   "execution_count": null,
   "metadata": {},
   "outputs": [],
   "source": []
  }
 ],
 "metadata": {
  "kernelspec": {
   "display_name": "Python 3",
   "language": "python",
   "name": "python3"
  },
  "language_info": {
   "codemirror_mode": {
    "name": "ipython",
    "version": 3
   },
   "file_extension": ".py",
   "mimetype": "text/x-python",
   "name": "python",
   "nbconvert_exporter": "python",
   "pygments_lexer": "ipython3",
   "version": "3.7.6"
  }
 },
 "nbformat": 4,
 "nbformat_minor": 4
}
